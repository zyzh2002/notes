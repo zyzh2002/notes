{
 "cells": [
  {
   "attachments": {},
   "cell_type": "markdown",
   "metadata": {},
   "source": [
    "\n",
    "这是一个施密特正交化方法的测试文档。"
   ]
  },
  {
   "cell_type": "code",
   "execution_count": 1,
   "metadata": {},
   "outputs": [
    {
     "name": "stdout",
     "output_type": "stream",
     "text": [
      "[1. 5. 1. 1.]\n",
      "[[-0.8660254  -0.5        -0.18045389  0.09837421]\n",
      " [-0.28867513  0.5         0.73842321 -0.32999351]\n",
      " [-0.28867513  0.5        -0.45943855  0.84254576]\n",
      " [ 0.28867513 -0.5         0.45943855  0.41417804]]\n",
      "[[ 1.00000000e+00 -4.59811972e-16 -6.68984864e-17 -3.46362729e-19]\n",
      " [-6.76714180e-16  5.00000000e+00 -3.78835386e-16 -3.71179514e-16]\n",
      " [ 1.27103093e-17 -1.22735999e-17  1.00000000e+00  4.92980278e-17]\n",
      " [-2.13002570e-18 -1.13398294e-17 -2.26939630e-17  1.00000000e+00]]\n"
     ]
    }
   ],
   "source": [
    "import numpy as np\n",
    "\n",
    "A = np.array([[2,-1,-1,1],[-1,2,1,-1],[-1,1,2,-1],[1,-1,-1,2]])\n",
    "\n",
    "eigen=np.linalg.eig(A)[0]\n",
    "P_normal=np.linalg.eig(A)[1]*1\n",
    "\n",
    "\n",
    "print(eigen)\n",
    "print(P_normal)\n",
    "print(np.linalg.inv(P_normal)@A@P_normal)"
   ]
  },
  {
   "attachments": {},
   "cell_type": "markdown",
   "metadata": {},
   "source": [
    "易得出结论:\n",
    "* 实对称矩阵对角化所选取的过渡矩阵不一定需要进行正交单位化\n",
    "* 对过渡矩阵进行正交单位化是为了便于计算。"
   ]
  },
  {
   "attachments": {},
   "cell_type": "markdown",
   "metadata": {},
   "source": [
    "这里贴一段ChatGPT写的Schmidt正交化方法。"
   ]
  },
  {
   "cell_type": "code",
   "execution_count": 3,
   "metadata": {},
   "outputs": [
    {
     "name": "stdout",
     "output_type": "stream",
     "text": [
      "[[ 1.00000000e+00 -5.39086823e-16  1.11620100e-16 -5.66055641e-17]\n",
      " [-1.05471187e-15  5.00000000e+00  5.55111512e-17 -5.55111512e-17]\n",
      " [ 2.82109144e-17 -6.06043943e-17  1.00000000e+00 -3.47007539e-17]\n",
      " [-7.36074334e-18 -1.62588398e-17 -8.25542809e-18  1.00000000e+00]]\n"
     ]
    }
   ],
   "source": [
    "import numpy as np\n",
    "\n",
    "\n",
    "def schmidt_orthogonalization(matrix):\n",
    "    \"\"\"\n",
    "    Schmidt orthogonalization of a given matrix using NumPy.\n",
    "    \"\"\"\n",
    "    # Get the number of rows and columns of the matrix.\n",
    "    rows, cols = matrix.shape\n",
    "\n",
    "    # Initialize an empty matrix to hold the orthogonal vectors.\n",
    "    orthogonal_matrix = np.zeros((rows, cols))\n",
    "\n",
    "    # Iterate over each column of the original matrix.\n",
    "    for i in range(cols):\n",
    "        # Take the current column as the initial orthogonal vector.\n",
    "        orthogonal_vector = matrix[:, i]\n",
    "\n",
    "        # Subtract the projections of previous orthogonal vectors from the current vector.\n",
    "        for j in range(i):\n",
    "            orthogonal_vector -= np.dot(matrix[:, i],\n",
    "                                        orthogonal_matrix[:, j]) * orthogonal_matrix[:, j]\n",
    "\n",
    "        # Normalize the resulting orthogonal vector.\n",
    "        orthogonal_vector /= np.linalg.norm(orthogonal_vector)\n",
    "\n",
    "        # Add the orthogonal vector to the orthogonal matrix.\n",
    "        orthogonal_matrix[:, i] = orthogonal_vector\n",
    "\n",
    "    # Return the orthogonal matrix.\n",
    "    return orthogonal_matrix\n",
    "\n",
    "\n",
    "P_orth=schmidt_orthogonalization(P_normal)\n",
    "\n",
    "print(np.linalg.inv(P_orth)@A@P_orth)"
   ]
  }
 ],
 "metadata": {
  "kernelspec": {
   "display_name": "Python 3",
   "language": "python",
   "name": "python3"
  },
  "language_info": {
   "codemirror_mode": {
    "name": "ipython",
    "version": 3
   },
   "file_extension": ".py",
   "mimetype": "text/x-python",
   "name": "python",
   "nbconvert_exporter": "python",
   "pygments_lexer": "ipython3",
   "version": "3.10.6"
  },
  "orig_nbformat": 4,
  "vscode": {
   "interpreter": {
    "hash": "e7370f93d1d0cde622a1f8e1c04877d8463912d04d973331ad4851f04de6915a"
   }
  }
 },
 "nbformat": 4,
 "nbformat_minor": 2
}
