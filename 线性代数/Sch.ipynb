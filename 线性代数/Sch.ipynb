{
 "cells": [
  {
   "attachments": {},
   "cell_type": "markdown",
   "metadata": {},
   "source": [
    "\n",
    "这是一个施密特正交化方法的测试文档。"
   ]
  },
  {
   "cell_type": "code",
   "execution_count": 25,
   "metadata": {},
   "outputs": [
    {
     "name": "stdout",
     "output_type": "stream",
     "text": [
      "[1. 5. 1. 1.]\n",
      "[[-0.8660254  -0.5        -0.18045389  0.09837421]\n",
      " [-0.28867513  0.5         0.73842321 -0.32999351]\n",
      " [-0.28867513  0.5        -0.45943855  0.84254576]\n",
      " [ 0.28867513 -0.5         0.45943855  0.41417804]]\n",
      "[[ 1.00000000e+00 -4.59811972e-16 -6.50535125e-17 -3.46362729e-19]\n",
      " [-6.76714180e-16  5.00000000e+00 -4.62102113e-16 -3.71179514e-16]\n",
      " [-1.07514638e-17 -1.22735999e-17  1.00000000e+00  3.97698760e-17]\n",
      " [-2.13002570e-18 -1.13398294e-17 -1.13541336e-17  1.00000000e+00]]\n"
     ]
    }
   ],
   "source": [
    "import numpy as np\n",
    "\n",
    "A = np.array([[2,-1,-1,1],[-1,2,1,-1],[-1,1,2,-1],[1,-1,-1,2]])\n",
    "\n",
    "eigen=np.linalg.eig(A)[0]\n",
    "P_normal=np.linalg.eig(A)[1]*1\n",
    "\n",
    "\n",
    "print(eigen)\n",
    "print(P_normal)\n",
    "print(np.linalg.inv(P_normal)@A@P_normal)"
   ]
  },
  {
   "attachments": {},
   "cell_type": "markdown",
   "metadata": {},
   "source": [
    "易得出结论:\n",
    "* 实对称矩阵对角化所选取的过渡矩阵不一定需要进行正交单位化\n",
    "* 对过渡矩阵进行正交单位化是为了便于计算。"
   ]
  }
 ],
 "metadata": {
  "kernelspec": {
   "display_name": "base",
   "language": "python",
   "name": "python3"
  },
  "language_info": {
   "name": "python",
   "version": "3.9.13"
  },
  "orig_nbformat": 4,
  "vscode": {
   "interpreter": {
    "hash": "ad2bdc8ecc057115af97d19610ffacc2b4e99fae6737bb82f5d7fb13d2f2c186"
   }
  }
 },
 "nbformat": 4,
 "nbformat_minor": 2
}
