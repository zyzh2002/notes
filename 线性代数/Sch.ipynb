{
 "cells": [
  {
   "attachments": {},
   "cell_type": "markdown",
   "metadata": {},
   "source": [
    "\n",
    "这是一个施密特正交化方法的测试文档。"
   ]
  },
  {
   "cell_type": "code",
   "execution_count": 2,
   "metadata": {},
   "outputs": [
    {
     "name": "stdout",
     "output_type": "stream",
     "text": [
      "[1. 5. 1. 1.]\n",
      "[[-0.8660254   0.5        -0.0478617   0.04830582]\n",
      " [-0.28867513 -0.5         0.43075529 -0.69238343]\n",
      " [-0.28867513 -0.5         0.35129375  0.71960202]\n",
      " [ 0.28867513  0.5         0.82991074 -0.02108723]]\n",
      "[[ 1.00000000e+00 -8.18789481e-16  8.32667268e-17 -3.46944695e-17]\n",
      " [-6.66133815e-16  5.00000000e+00 -8.88178420e-16  2.56739074e-16]\n",
      " [-1.11022302e-16  1.16573418e-15  1.00000000e+00 -5.89805982e-17]\n",
      " [ 3.81639165e-17 -1.86656246e-15 -4.16333634e-17  1.00000000e+00]]\n"
     ]
    }
   ],
   "source": [
    "import numpy as np\n",
    "\n",
    "A = np.array([[2,-1,-1,1],[-1,2,1,-1],[-1,1,2,-1],[1,-1,-1,2]])\n",
    "\n",
    "eigen=np.linalg.eig(A)[0]\n",
    "P_normal=np.linalg.eig(A)[1]*1\n",
    "\n",
    "\n",
    "print(eigen)\n",
    "print(P_normal)\n",
    "print(np.linalg.inv(P_normal)@A@P_normal)"
   ]
  },
  {
   "attachments": {},
   "cell_type": "markdown",
   "metadata": {},
   "source": [
    "易得出结论:\n",
    "* 实对称矩阵对角化所选取的过渡矩阵不一定需要进行正交单位化\n",
    "* 对过渡矩阵进行正交单位化是为了便于计算。"
   ]
  },
  {
   "attachments": {},
   "cell_type": "markdown",
   "metadata": {},
   "source": [
    "这里贴一段ChatGPT写的Schmidt正交化方法。"
   ]
  },
  {
   "cell_type": "code",
   "execution_count": 5,
   "metadata": {},
   "outputs": [
    {
     "name": "stdout",
     "output_type": "stream",
     "text": [
      "[[-8.66025404e-01  5.00000000e-01 -1.38990301e-17 -3.56850592e-17]\n",
      " [-2.88675135e-01 -5.00000000e-01  4.47392951e-01 -6.83012601e-01]\n",
      " [-2.88675135e-01 -5.00000000e-01  3.67809788e-01  7.28959962e-01]\n",
      " [ 2.88675135e-01  5.00000000e-01  8.15202740e-01  4.59473606e-02]]\n"
     ]
    }
   ],
   "source": [
    "import numpy as np\n",
    "\n",
    "\n",
    "def schmidt_orthogonalization(matrix):\n",
    "    \"\"\"\n",
    "    Schmidt orthogonalization of a given matrix using NumPy.\n",
    "    \"\"\"\n",
    "    # Get the number of rows and columns of the matrix.\n",
    "    rows, cols = matrix.shape\n",
    "\n",
    "    # Initialize an empty matrix to hold the orthogonal vectors.\n",
    "    orthogonal_matrix = np.zeros((rows, cols))\n",
    "\n",
    "    # Iterate over each column of the original matrix.\n",
    "    for i in range(cols):\n",
    "        # Take the current column as the initial orthogonal vector.\n",
    "        orthogonal_vector = matrix[:, i]\n",
    "\n",
    "        # Subtract the projections of previous orthogonal vectors from the current vector.\n",
    "        for j in range(i):\n",
    "            orthogonal_vector -= np.dot(matrix[:, i],\n",
    "                                        orthogonal_matrix[:, j]) * orthogonal_matrix[:, j]\n",
    "\n",
    "        # Normalize the resulting orthogonal vector.\n",
    "        orthogonal_vector /= np.linalg.norm(orthogonal_vector)\n",
    "\n",
    "        # Add the orthogonal vector to the orthogonal matrix.\n",
    "        orthogonal_matrix[:, i] = orthogonal_vector\n",
    "\n",
    "    # Return the orthogonal matrix.\n",
    "    return orthogonal_matrix\n",
    "\n",
    "\n",
    "print(schmidt_orthogonalization(P_normal))"
   ]
  }
 ],
 "metadata": {
  "kernelspec": {
   "display_name": "base",
   "language": "python",
   "name": "python3"
  },
  "language_info": {
   "codemirror_mode": {
    "name": "ipython",
    "version": 3
   },
   "file_extension": ".py",
   "mimetype": "text/x-python",
   "name": "python",
   "nbconvert_exporter": "python",
   "pygments_lexer": "ipython3",
   "version": "3.9.13"
  },
  "orig_nbformat": 4,
  "vscode": {
   "interpreter": {
    "hash": "ad2bdc8ecc057115af97d19610ffacc2b4e99fae6737bb82f5d7fb13d2f2c186"
   }
  }
 },
 "nbformat": 4,
 "nbformat_minor": 2
}
