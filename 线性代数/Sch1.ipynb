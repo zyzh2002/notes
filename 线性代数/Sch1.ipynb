{
 "cells": [
  {
   "cell_type": "code",
   "execution_count": 2,
   "metadata": {},
   "outputs": [],
   "source": [
    "import numpy as np\n",
    "\n",
    "def schmidt_orthogonalization(matrix):\n",
    "    \"\"\"\n",
    "    Schmidt orthogonalization of a given matrix using NumPy.\n",
    "    \"\"\"\n",
    "    # Get the number of rows and columns of the matrix.\n",
    "    rows, cols = matrix.shape\n",
    "\n",
    "    # Initialize an empty matrix to hold the orthogonal vectors.\n",
    "    orthogonal_matrix = np.zeros((rows, cols))\n",
    "\n",
    "    # Iterate over each column of the original matrix.\n",
    "    for i in range(cols):\n",
    "        # Take the current column as the initial orthogonal vector.\n",
    "        orthogonal_vector = matrix[:, i]\n",
    "\n",
    "        # Subtract the projections of previous orthogonal vectors from the current vector.\n",
    "        for j in range(i):\n",
    "            orthogonal_vector -= np.dot(matrix[:, i],\n",
    "                                        orthogonal_matrix[:, j]) * orthogonal_matrix[:, j]\n",
    "\n",
    "        # Normalize the resulting orthogonal vector.\n",
    "        orthogonal_vector /= np.linalg.norm(orthogonal_vector)\n",
    "\n",
    "        # Add the orthogonal vector to the orthogonal matrix.\n",
    "        orthogonal_matrix[:, i] = orthogonal_vector\n",
    "\n",
    "    # Return the orthogonal matrix.\n",
    "    return orthogonal_matrix\n"
   ]
  },
  {
   "attachments": {},
   "cell_type": "markdown",
   "metadata": {},
   "source": [
    "这个文档用来测试矩阵正交化的效果。"
   ]
  },
  {
   "cell_type": "code",
   "execution_count": 3,
   "metadata": {},
   "outputs": [
    {
     "ename": "UFuncTypeError",
     "evalue": "Cannot cast ufunc 'divide' output from dtype('float64') to dtype('int64') with casting rule 'same_kind'",
     "output_type": "error",
     "traceback": [
      "\u001b[0;31m---------------------------------------------------------------------------\u001b[0m",
      "\u001b[0;31mUFuncTypeError\u001b[0m                            Traceback (most recent call last)",
      "Cell \u001b[0;32mIn[3], line 3\u001b[0m\n\u001b[1;32m      1\u001b[0m A\u001b[39m=\u001b[39mnp\u001b[39m.\u001b[39marray([[\u001b[39m1\u001b[39m,\u001b[39m1\u001b[39m,\u001b[39m0\u001b[39m],[\u001b[39m0\u001b[39m,\u001b[39m1\u001b[39m,\u001b[39m1\u001b[39m],[\u001b[39m1\u001b[39m,\u001b[39m0\u001b[39m,\u001b[39m1\u001b[39m]])\n\u001b[0;32m----> 3\u001b[0m A_orth\u001b[39m=\u001b[39mschmidt_orthogonalization(A)\n\u001b[1;32m      5\u001b[0m b\u001b[39m=\u001b[39mnp\u001b[39m.\u001b[39marray([\u001b[39m1\u001b[39m,\u001b[39m1\u001b[39m,\u001b[39m1\u001b[39m])\n\u001b[1;32m      7\u001b[0m \u001b[39mprint\u001b[39m(A_orth\u001b[39m@b\u001b[39m)\n",
      "Cell \u001b[0;32mIn[2], line 24\u001b[0m, in \u001b[0;36mschmidt_orthogonalization\u001b[0;34m(matrix)\u001b[0m\n\u001b[1;32m     20\u001b[0m     orthogonal_vector \u001b[39m-\u001b[39m\u001b[39m=\u001b[39m np\u001b[39m.\u001b[39mdot(matrix[:, i],\n\u001b[1;32m     21\u001b[0m                                 orthogonal_matrix[:, j]) \u001b[39m*\u001b[39m orthogonal_matrix[:, j]\n\u001b[1;32m     23\u001b[0m \u001b[39m# Normalize the resulting orthogonal vector.\u001b[39;00m\n\u001b[0;32m---> 24\u001b[0m orthogonal_vector \u001b[39m/\u001b[39m\u001b[39m=\u001b[39m np\u001b[39m.\u001b[39mlinalg\u001b[39m.\u001b[39mnorm(orthogonal_vector)\n\u001b[1;32m     26\u001b[0m \u001b[39m# Add the orthogonal vector to the orthogonal matrix.\u001b[39;00m\n\u001b[1;32m     27\u001b[0m orthogonal_matrix[:, i] \u001b[39m=\u001b[39m orthogonal_vector\n",
      "\u001b[0;31mUFuncTypeError\u001b[0m: Cannot cast ufunc 'divide' output from dtype('float64') to dtype('int64') with casting rule 'same_kind'"
     ]
    }
   ],
   "source": [
    "A=np.array([[1,1,0],[0,1,1],[1,0,1]])\n",
    "\n",
    "A_orth=schmidt_orthogonalization(A)\n",
    "\n",
    "b=np.array([1,1,1])\n",
    "\n",
    "print(A_orth@b)\n",
    "print(A@b)"
   ]
  }
 ],
 "metadata": {
  "kernelspec": {
   "display_name": "Python 3",
   "language": "python",
   "name": "python3"
  },
  "language_info": {
   "codemirror_mode": {
    "name": "ipython",
    "version": 3
   },
   "file_extension": ".py",
   "mimetype": "text/x-python",
   "name": "python",
   "nbconvert_exporter": "python",
   "pygments_lexer": "ipython3",
   "version": "3.10.6"
  },
  "orig_nbformat": 4,
  "vscode": {
   "interpreter": {
    "hash": "e7370f93d1d0cde622a1f8e1c04877d8463912d04d973331ad4851f04de6915a"
   }
  }
 },
 "nbformat": 4,
 "nbformat_minor": 2
}
